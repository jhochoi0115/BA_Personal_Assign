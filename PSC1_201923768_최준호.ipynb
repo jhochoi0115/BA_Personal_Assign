{
 "cells": [
  {
   "cell_type": "markdown",
   "id": "bcfba392",
   "metadata": {},
   "source": [
    "# 파이썬 스타일 코드1 - 연습해보기\n",
    "\n",
    "## 201923768 최준호\n",
    "### 2021-09-12\n",
    "----"
   ]
  },
  {
   "cell_type": "markdown",
   "id": "6ba7b808",
   "metadata": {},
   "source": [
    "## 1. Css Selector 수정\n",
    "Css Selector는 웹 페이지에서 특정 요소를 선택하기 위해 해당 요소까지 찾아갈 수 있도록 해주는 주소와 같은 것이다. 대부분의 웹브라우져에서 는 해당 요소에 대한 css selector 값을 쉽게 얻어올 수 있다 (F12 > Select an Element). 다음과 같은 selector가 있다고 한다."
   ]
  },
  {
   "cell_type": "markdown",
   "id": "7ccb3bfb",
   "metadata": {},
   "source": [
    "```\n",
    "#today_main_news > div.hdline_news > ul > li:nth-child(1)\n",
    "```"
   ]
  },
  {
   "cell_type": "markdown",
   "id": "7d8b456f",
   "metadata": {},
   "source": [
    "이러한 selector를 웹크롤링에서 사용하기 위해서는 :nth-child라는 부분을 제거하는 작업이 필요한데, 이를 자동화 해보자.\n",
    "> **Q:** 해당 Selector를 문자열로 표시하고, split과 join 함수를 활용하여 다음 예시와 같은 selector를 출력하시오."
   ]
  },
  {
   "cell_type": "code",
   "execution_count": 1,
   "id": "e071179f",
   "metadata": {},
   "outputs": [
    {
     "data": {
      "text/plain": [
       "'#today_main_news  >  div.hdline_news  >  ul  >  li'"
      ]
     },
     "execution_count": 1,
     "metadata": {},
     "output_type": "execute_result"
    }
   ],
   "source": [
    "# selector 생성\n",
    "selector = \"#today_main_news > div.hdline_news > ul > li:nth-child(1)\"\n",
    "# \">\" 기준으로 문자열을 나눠 리스트 생성\n",
    "selector_list = selector.split(\">\")\n",
    "#  selector 리스트의 마지막 요솟값인 li:nth-child(1)을 \":\" 기준으로 나눈 후 첫번째 요솟값을 불러온다\n",
    "selector_list[-1] = selector_list[-1].split(\":\")[0]\n",
    "# \">\" 기준으로 리스트를 문자열로 합친다\n",
    "\" > \".join(selector_list)"
   ]
  },
  {
   "cell_type": "markdown",
   "id": "ce97a607",
   "metadata": {},
   "source": [
    "## 2. list comprehension으로 만드는 구구단\n",
    "PR5 문제 3번에서 만들었던 구구단 계산기를 list comprehension으로 구현해보고자 한다.\n",
    "> **Q**: list comprehension을 사용하여 구구단을 연산하는 함수 gugu_com을 작성하고 구구단 **7**단을 출력하시오."
   ]
  },
  {
   "cell_type": "code",
   "execution_count": 2,
   "id": "e8d8886a",
   "metadata": {},
   "outputs": [
    {
     "name": "stdout",
     "output_type": "stream",
     "text": [
      "2 x 1 = 2\n",
      "2 x 2 = 4\n",
      "2 x 3 = 6\n",
      "2 x 4 = 8\n",
      "2 x 5 = 10\n",
      "2 x 6 = 12\n",
      "2 x 7 = 14\n",
      "2 x 8 = 16\n",
      "2 x 9 = 18\n"
     ]
    }
   ],
   "source": [
    "# guru_com 함수 선언\n",
    "def gugu_com(x=2):\n",
    "    [print(f\"{x} x {i} = {x*i}\") for i in range(1, 10)]\n",
    "# [(변수를 활용한 값) for (사용할 변수 이름) in (순회할 수 있는 값)]\n",
    "# i=1~10 -> (2) x (i) = (2 * i)\n",
    "gugu_com(2)"
   ]
  },
  {
   "cell_type": "markdown",
   "id": "6019c333",
   "metadata": {},
   "source": [
    "## 3. 두 주사위의 곱\n",
    "두 주사위의 곱은 다음과 같은 결과를 가진다.\n",
    "\n",
    "|x|1|2|3|4|5|6|\n",
    "|-|-|-|-|-|-|-|\n",
    "|1|1|2|3|4|5|6|\n",
    "|2|2|4|6|8|10|12|\n",
    "|3|3|6|9|12|15|18|\n",
    "|4|4|8|12|16|20|24|\n",
    "|5|5|10|15|20|25|30|\n",
    "|6|6|12|18|24|30|36|\n",
    "> **Q**: list comprehension을 사용하여, 힌트를 제외하고는 한줄의 코드로 해당 결과를 가지는 이차원 리스트를 만드시오."
   ]
  },
  {
   "cell_type": "code",
   "execution_count": 3,
   "id": "09153fe6",
   "metadata": {},
   "outputs": [
    {
     "data": {
      "text/plain": [
       "[[1, 2, 3, 4, 5, 6],\n",
       " [2, 4, 6, 8, 10, 12],\n",
       " [3, 6, 9, 12, 15, 18],\n",
       " [4, 8, 12, 16, 20, 24],\n",
       " [5, 10, 15, 20, 25, 30],\n",
       " [6, 12, 18, 24, 30, 36]]"
      ]
     },
     "execution_count": 3,
     "metadata": {},
     "output_type": "execute_result"
    }
   ],
   "source": [
    "die = [i for i in range(1,7)]\n",
    "# 1 2 3 4 5 6\n",
    "[[j*i for i in die] for j in die]"
   ]
  },
  {
   "cell_type": "markdown",
   "id": "533b7170",
   "metadata": {},
   "source": [
    "## 4. 두 주사위의 합\n",
    "간단한 테이블 형태의 데이터를 2차원 리스트로 표현해보자. 2개의 주사위를 굴리면 다음 표와 같이 36가지의 결과가 나온다.\n",
    "\n",
    "|x|1|2|3|4|5|6|\n",
    "|-|-|-|-|-|-|-|\n",
    "|1|2|3|4|5|6|7|\n",
    "|2|3|4|5|6|7|8|\n",
    "|3|4|5|6|7|8|9|\n",
    "|4|5|6|7|8|9|10|\n",
    "|5|6|7|8|9|10|11|\n",
    "|6|7|8|9|10|11|12|\n",
    "\n",
    "> **Q**: 이것을 6 x 6 크기의 2차원 리스트로 생성하고, 인덱싱을 통해 2 + 6의 값을 2가지 방법으로 나타내시오. (2차원 리스트 생성시 방법의 제한은 없습니다.)"
   ]
  },
  {
   "cell_type": "code",
   "execution_count": 4,
   "id": "ffd3b1c0",
   "metadata": {},
   "outputs": [
    {
     "name": "stdout",
     "output_type": "stream",
     "text": [
      "8\n",
      "8\n"
     ]
    }
   ],
   "source": [
    "# 6x6 크기의 2차원 리스트 생성\n",
    "dice_sum = [[2, 3, 4, 5, 6, 7],\n",
    "            [3, 4, 5, 6, 7, 8],\n",
    "            [4, 5, 6, 7, 8, 9],\n",
    "            [5, 6, 7, 8, 9, 10],\n",
    "            [6, 7, 8, 9, 10, 11],\n",
    "            [7, 8, 9, 10, 11, 12]]\n",
    "\n",
    "print(dice_sum[1][5])  # 2번째 []의 6번쨰\n",
    "print(dice_sum[5][1])  # 6번째 []의 2번째 "
   ]
  },
  {
   "cell_type": "code",
   "execution_count": 5,
   "id": "cc7af790",
   "metadata": {},
   "outputs": [
    {
     "name": "stdout",
     "output_type": "stream",
     "text": [
      "8\n",
      "8\n"
     ]
    }
   ],
   "source": [
    "die = [i for i in range(1,7)]\n",
    "\n",
    "# 2차원 배열 만들기\n",
    "dice_sum = [[j+i for i in die] for j in die]\n",
    "\n",
    "print(dice_sum[1][5])\n",
    "print(dice_sum[5][1])"
   ]
  },
  {
   "cell_type": "markdown",
   "id": "bc9149f8",
   "metadata": {},
   "source": [
    "------"
   ]
  },
  {
   "cell_type": "markdown",
   "id": "21b1d793",
   "metadata": {},
   "source": [
    "# 도전문제\n",
    "\n",
    "## 표절 검사 프로그램\n",
    "아주대학교 글로벌 경영학과의 한 교수님은 과제의 표절 검사를 쉽게 하기 위해 Python을 통한 간단한 표절 검사 프로그램을 작성해보고자 한다.\n",
    "\n",
    "현재 구상 중인 프로그램은 복잡한 알고리즘을 필요로하지 않고, 간단하게 단어 빈도를 기반으로 하여, 그 유사도를 측정하고자한다."
   ]
  },
  {
   "cell_type": "code",
   "execution_count": 6,
   "id": "d4b6eca2",
   "metadata": {},
   "outputs": [],
   "source": [
    "# collections:  dict, list, set 및 tuple에 대한 대안을 제공하는 특수 컨테이너 데이터형\n",
    "# defaultdict: 누락된 값을 제공하기 위해 팩토리 함수를 호출해줌\n",
    "# Counter: 해시 가능한 객체를 세는데 사용\n",
    "from collections import defaultdict, Counter\n",
    "\n",
    "text = \"\"\"Python is a very simple programming language so even if you are new to programming, you can learn python without facing any issues.\"\"\"\n",
    "\n",
    "text2 = \"\"\"C is a very difficult programming language so even if you are good at programming, you can learn c with facing any issues.\"\"\"\n",
    "\n",
    "text3 = \"\"\"R Programming is good at statistical analysis. you can learn easily\"\"\""
   ]
  },
  {
   "cell_type": "markdown",
   "id": "a1ee50b0",
   "metadata": {},
   "source": [
    "> **Q**: defaultdict를 활용하여 text를 입력받으면 단어별 빈도를 측정하여 반환하는 함수 word_counter를 만드시오."
   ]
  },
  {
   "cell_type": "code",
   "execution_count": 7,
   "id": "fa242e58",
   "metadata": {},
   "outputs": [],
   "source": [
    "def word_counter(text):\n",
    "    word_count = defaultdict(lambda: 0) # = defaultdict(int) -> 0을 기본 값으로\n",
    "    # 텍스트 소문자 바꾸고 나눔\n",
    "    for word in text.lower().split():\n",
    "        # 있으면 세기\n",
    "        word_count[word] += 1\n",
    "        \n",
    "    return word_count"
   ]
  },
  {
   "cell_type": "code",
   "execution_count": 8,
   "id": "811f8bd5",
   "metadata": {},
   "outputs": [
    {
     "data": {
      "text/plain": [
       "defaultdict(<function __main__.word_counter.<locals>.<lambda>()>,\n",
       "            {'python': 2,\n",
       "             'is': 1,\n",
       "             'a': 1,\n",
       "             'very': 1,\n",
       "             'simple': 1,\n",
       "             'programming': 1,\n",
       "             'language': 1,\n",
       "             'so': 1,\n",
       "             'even': 1,\n",
       "             'if': 1,\n",
       "             'you': 2,\n",
       "             'are': 1,\n",
       "             'new': 1,\n",
       "             'to': 1,\n",
       "             'programming,': 1,\n",
       "             'can': 1,\n",
       "             'learn': 1,\n",
       "             'without': 1,\n",
       "             'facing': 1,\n",
       "             'any': 1,\n",
       "             'issues.': 1})"
      ]
     },
     "execution_count": 8,
     "metadata": {},
     "output_type": "execute_result"
    }
   ],
   "source": [
    "# 결과 출력\n",
    "word_counter(text)"
   ]
  },
  {
   "cell_type": "markdown",
   "id": "33595066",
   "metadata": {},
   "source": [
    "> **Q**: 도전문제 1의 word_counter 활용하여 text와 text2의 유사도와 text와 text3의 유사도를 구하시오."
   ]
  },
  {
   "cell_type": "code",
   "execution_count": 9,
   "id": "ddbc8f95",
   "metadata": {},
   "outputs": [],
   "source": [
    "def text_similarity(text_count_1, text_count_2):\n",
    "    # dict의 덧셈 & 뺄셈 연산 가능\n",
    "    text1_count = Counter(text_count_1)\n",
    "    text2_count = Counter(text_count_2)\n",
    "    # 값(values 활용) 뽑아내고 연산\n",
    "    word_total = sum(text1_count.values())\n",
    "    word_diff = sum((text1_count - text2_count).values())\n",
    "    # 확률로 (Percentage)\n",
    "    return (1 - word_diff / word_total) * 100"
   ]
  },
  {
   "cell_type": "code",
   "execution_count": 10,
   "id": "5c826d15",
   "metadata": {},
   "outputs": [
    {
     "data": {
      "text/plain": [
       "73.91304347826086"
      ]
     },
     "execution_count": 10,
     "metadata": {},
     "output_type": "execute_result"
    }
   ],
   "source": [
    "# text와 text2의 유사도\n",
    "text_similarity(word_counter(text), word_counter(text2))"
   ]
  },
  {
   "cell_type": "code",
   "execution_count": 11,
   "id": "74053e0a",
   "metadata": {},
   "outputs": [
    {
     "data": {
      "text/plain": [
       "21.739130434782606"
      ]
     },
     "execution_count": 11,
     "metadata": {},
     "output_type": "execute_result"
    }
   ],
   "source": [
    "# text와 text3의 유사도\n",
    "text_similarity(word_counter(text), word_counter(text3))"
   ]
  }
 ],
 "metadata": {
  "kernelspec": {
   "display_name": "Python 3",
   "language": "python",
   "name": "python3"
  },
  "language_info": {
   "codemirror_mode": {
    "name": "ipython",
    "version": 3
   },
   "file_extension": ".py",
   "mimetype": "text/x-python",
   "name": "python",
   "nbconvert_exporter": "python",
   "pygments_lexer": "ipython3",
   "version": "3.8.8"
  }
 },
 "nbformat": 4,
 "nbformat_minor": 5
}
